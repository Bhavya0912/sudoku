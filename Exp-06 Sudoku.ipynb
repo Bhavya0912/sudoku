{
 "cells": [
  {
   "cell_type": "code",
   "execution_count": 1,
   "metadata": {},
   "outputs": [],
   "source": [
    "%matplotlib inline\n",
    "import matplotlib.pyplot as plt\n",
    "import random\n",
    "import math\n",
    "import sys"
   ]
  },
  {
   "cell_type": "code",
   "execution_count": 2,
   "metadata": {},
   "outputs": [],
   "source": [
    "puzzle='4.129..752..3..8...7..8...6...1.3.621.5...4.373.6.8...6...2..3...7..1..489..651.7'"
   ]
  },
  {
   "cell_type": "code",
   "execution_count": 3,
   "metadata": {},
   "outputs": [],
   "source": [
    "rows = 'ABCDEFGHI'\n",
    "cols = '123456789'\n",
    "\n",
    "def cross(a,b):\n",
    "    return [s+t for s in a for t in b]"
   ]
  },
  {
   "cell_type": "code",
   "execution_count": 4,
   "metadata": {},
   "outputs": [],
   "source": [
    "boxes= cross(rows, cols)"
   ]
  },
  {
   "cell_type": "code",
   "execution_count": 5,
   "metadata": {},
   "outputs": [],
   "source": [
    "row_units = [cross(r,cols) for r in rows]\n",
    "column_units = [cross(rows,c) for c in cols]\n",
    "square_units = [cross(rs,cs) for rs in ('ABC','DEF','GHI') for cs in ('123','456','789')]\n",
    "\n",
    "unitlist = row_units + column_units + square_units\n",
    "units = dict((s,[u for u in unitlist if s in u]) for s in boxes)\n",
    "peers = dict((s,set(sum(units[s],[]))-set([s])) for s in boxes)"
   ]
  },
  {
   "cell_type": "code",
   "execution_count": 6,
   "metadata": {},
   "outputs": [],
   "source": [
    "def display(values):\n",
    "    width=1+max(len(values[s])for s in boxes)\n",
    "    line = '+'.join(['-'*(width*3)]*3)\n",
    "    for r in rows:\n",
    "        print(''.join(values[r+c].center(width)+('|'if c in '36' else '')for c in cols))\n",
    "        if r in 'CF':print(line)\n",
    "    return"
   ]
  },
  {
   "cell_type": "code",
   "execution_count": 7,
   "metadata": {},
   "outputs": [],
   "source": [
    "def elimination(values):\n",
    "    solved_values = [box for box in values.keys() if len(values[box])==1]\n",
    "    for box in solved_values:\n",
    "        digit = values[box]\n",
    "        for peer in peers[box]:\n",
    "            values[peer] = values[peer].replace(digit,'')\n",
    "    return values"
   ]
  },
  {
   "cell_type": "code",
   "execution_count": 8,
   "metadata": {},
   "outputs": [],
   "source": [
    "def only_choice(values):\n",
    "    for unit in unitlist:\n",
    "        for digit in '123456789':\n",
    "            dplaces = [box for box in unit if digit in values[box]]\n",
    "            if len(dplaces) == 1:\n",
    "                values[dplaces[0]] = digit\n",
    "    return values"
   ]
  },
  {
   "cell_type": "code",
   "execution_count": 9,
   "metadata": {},
   "outputs": [],
   "source": [
    "def grid_values(grid):\n",
    "    assert len(grid) == 81, \"Input grid must be a string length of 81 (9x9)\"\n",
    "    boxes = cross(rows,cols)\n",
    "    return dict(zip(boxes,grid))\n",
    "\n",
    "def grid_values_improved(grid):\n",
    "    values = []\n",
    "    all_digits = '123456789'\n",
    "    for c in grid:\n",
    "        if c == '.':\n",
    "            values.append(all_digits)\n",
    "        elif c in all_digits:\n",
    "                values.append(c)\n",
    "    assert len(values) == 81\n",
    "    boxes = cross(rows,cols)\n",
    "    return dict(zip(boxes,values))"
   ]
  },
  {
   "cell_type": "code",
   "execution_count": 10,
   "metadata": {},
   "outputs": [],
   "source": [
    "def reduce_puzzle(values):\n",
    "    stalled =False\n",
    "    while not stalled:\n",
    "        solved_values_before = len([box for box in values.keys() if len(values[box])==1])\n",
    "        elimination(values)\n",
    "        only_choice(values)\n",
    "        solved_values_after = len([box for box in values.keys() if len(values[box])==1])\n",
    "        stalled = solved_values_after == solved_values_before\n",
    "        if len([box for box in values.keys() if len(values[box])==1])==0:\n",
    "            return False\n",
    "    return values"
   ]
  },
  {
   "cell_type": "code",
   "execution_count": 11,
   "metadata": {},
   "outputs": [],
   "source": [
    "def search(values):\n",
    "    values_reduced = reduce_puzzle(values)\n",
    "    if not values_reduced:\n",
    "        return False\n",
    "    else:\n",
    "        values=values_reduced\n",
    "    if len([box for box in values.keys() if len(values[box])==1])==81:\n",
    "        return values\n",
    "    \n",
    "    possibility_count_list = [(len(values[box]),box) for box in values.keys() if len(values[box])>1]\n",
    "    \n",
    "    possibility_count_list.sort()\n",
    "    for(_,t_box_min) in possibility_count_list:\n",
    "        for i_digit in values[t_box_min]:\n",
    "            new_values = values.copy()\n",
    "            new_values[t_box_min]=i_digit\n",
    "            new_values = search(new_values)\n",
    "            if new_values:\n",
    "                return new_values\n",
    "            \n",
    "    return values"
   ]
  },
  {
   "cell_type": "code",
   "execution_count": 12,
   "metadata": {},
   "outputs": [
    {
     "name": "stdout",
     "output_type": "stream",
     "text": [
      "4 8 1 |2 9 6 |3 7 5 \n",
      "2 5 6 |3 1 7 |8 4 9 \n",
      "3 7 9 |5 8 4 |2 1 6 \n",
      "------+------+------\n",
      "9 4 8 |1 5 3 |7 6 2 \n",
      "1 6 5 |9 7 2 |4 8 3 \n",
      "7 3 2 |6 4 8 |9 5 1 \n",
      "------+------+------\n",
      "6 1 4 |7 2 9 |5 3 8 \n",
      "5 2 7 |8 3 1 |6 9 4 \n",
      "8 9 3 |4 6 5 |1 2 7 \n"
     ]
    }
   ],
   "source": [
    "p1=grid_values_improved(puzzle)\n",
    "result = search(p1)\n",
    "display(result)"
   ]
  },
  {
   "cell_type": "code",
   "execution_count": 13,
   "metadata": {},
   "outputs": [
    {
     "name": "stdout",
     "output_type": "stream",
     "text": [
      "{'A1': '4', 'A2': '8', 'A3': '1', 'A4': '2', 'A5': '9', 'A6': '6', 'A7': '3', 'A8': '7', 'A9': '5', 'B1': '2', 'B2': '5', 'B3': '6', 'B4': '3', 'B5': '1', 'B6': '7', 'B7': '8', 'B8': '4', 'B9': '9', 'C1': '3', 'C2': '7', 'C3': '9', 'C4': '5', 'C5': '8', 'C6': '4', 'C7': '2', 'C8': '1', 'C9': '6', 'D1': '9', 'D2': '4', 'D3': '8', 'D4': '1', 'D5': '5', 'D6': '3', 'D7': '7', 'D8': '6', 'D9': '2', 'E1': '1', 'E2': '6', 'E3': '5', 'E4': '9', 'E5': '7', 'E6': '2', 'E7': '4', 'E8': '8', 'E9': '3', 'F1': '7', 'F2': '3', 'F3': '2', 'F4': '6', 'F5': '4', 'F6': '8', 'F7': '9', 'F8': '5', 'F9': '1', 'G1': '6', 'G2': '1', 'G3': '4', 'G4': '7', 'G5': '2', 'G6': '9', 'G7': '5', 'G8': '3', 'G9': '8', 'H1': '5', 'H2': '2', 'H3': '7', 'H4': '8', 'H5': '3', 'H6': '1', 'H7': '6', 'H8': '9', 'H9': '4', 'I1': '8', 'I2': '9', 'I3': '3', 'I4': '4', 'I5': '6', 'I6': '5', 'I7': '1', 'I8': '2', 'I9': '7'}\n"
     ]
    }
   ],
   "source": [
    "print(result)"
   ]
  },
  {
   "cell_type": "code",
   "execution_count": null,
   "metadata": {},
   "outputs": [],
   "source": []
  }
 ],
 "metadata": {
  "kernelspec": {
   "display_name": "Python 3",
   "language": "python",
   "name": "python3"
  },
  "language_info": {
   "codemirror_mode": {
    "name": "ipython",
    "version": 3
   },
   "file_extension": ".py",
   "mimetype": "text/x-python",
   "name": "python",
   "nbconvert_exporter": "python",
   "pygments_lexer": "ipython3",
   "version": "3.8.5"
  }
 },
 "nbformat": 4,
 "nbformat_minor": 4
}
